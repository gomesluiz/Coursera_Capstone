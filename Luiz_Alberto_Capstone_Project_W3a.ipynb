{
 "cells": [
  {
   "cell_type": "markdown",
   "metadata": {},
   "source": [
    "# Segmenting and Clustering Neighborhoods in Toronto"
   ]
  },
  {
   "cell_type": "markdown",
   "metadata": {},
   "source": [
    "## 1. Importing python packages "
   ]
  },
  {
   "cell_type": "code",
   "execution_count": 41,
   "metadata": {},
   "outputs": [
    {
     "name": "stdout",
     "output_type": "stream",
     "text": [
      "1. python packages imported\n"
     ]
    }
   ],
   "source": [
    "import numpy  as np\n",
    "import pandas as pd\n",
    "import requests\n",
    "from bs4 import BeautifulSoup\n",
    "print('1. python packages imported')"
   ]
  },
  {
   "cell_type": "markdown",
   "metadata": {},
   "source": [
    "## 2. Extracting list of postal codes page from Wikipedia"
   ]
  },
  {
   "cell_type": "code",
   "execution_count": 42,
   "metadata": {},
   "outputs": [
    {
     "name": "stdout",
     "output_type": "stream",
     "text": [
      "2. html page extracted\n"
     ]
    }
   ],
   "source": [
    "page_url = 'https://en.wikipedia.org/wiki/List_of_postal_codes_of_Canada:_M'\n",
    "response = requests.get(page_url)\n",
    "html_doc = response.text\n",
    "soup_doc = BeautifulSoup(html_doc, 'lxml')\n",
    "print('2. html page extracted')"
   ]
  },
  {
   "cell_type": "markdown",
   "metadata": {},
   "source": [
    "## 3. Extracting and scrapping the list of postal codes table from HTML page"
   ]
  },
  {
   "cell_type": "markdown",
   "metadata": {},
   "source": [
    "I have used 'wikitable sortable' class to find and extract the list of postal codes from HTML Wikipedia page. I have supposed which there is only one table labeled with this class."
   ]
  },
  {
   "cell_type": "code",
   "execution_count": 43,
   "metadata": {},
   "outputs": [
    {
     "name": "stdout",
     "output_type": "stream",
     "text": [
      "3.1. neighborhood table extracted\n",
      "3.2. neighborhoods dataframe built.\n"
     ]
    }
   ],
   "source": [
    "neigh_html_table = soup_doc.find('table', {'class': 'wikitable sortable'})\n",
    "print('3.1. neighborhood table extracted')\n",
    "\n",
    "# build neighborhoods dataframe.\n",
    "neighborhoods = []\n",
    "for row in neigh_html_table.find_all('tr'):\n",
    "        cols = row.find_all('td')\n",
    "        if len(cols) == 3:\n",
    "            neighborhoods.append((cols[0].text.strip(), cols[1].text.strip(), cols[2].text.strip()))\n",
    "neigh_df = pd.DataFrame(np.asarray(neighborhoods))\n",
    "neigh_df.columns = ['PostCode', 'Borough', 'Neighborhood']\n",
    "print('3.2. neighborhoods dataframe built.')\n"
   ]
  },
  {
   "cell_type": "markdown",
   "metadata": {},
   "source": [
    "## 4. Filtering out 'Not assigned' Boroughs and updating Neighborhood with NA."
   ]
  },
  {
   "cell_type": "code",
   "execution_count": 44,
   "metadata": {},
   "outputs": [
    {
     "name": "stdout",
     "output_type": "stream",
     "text": [
      "4. Neighborhoods dataframe filtered out.\n"
     ]
    }
   ],
   "source": [
    "# filter out 'Not assigned' Boroughs.\n",
    "valid_neighs = neigh_df.Borough != 'Not assigned'\n",
    "neigh_df = neigh_df[valid_neighs]\n",
    "\n",
    "na_neighborhoods = neigh_df.Neighborhood == 'Not assigned'\n",
    "neigh_df.loc[na_neighborhoods, ['Neighborhood']] = neigh_df[na_neighborhoods].Borough\n",
    "print('4. Neighborhoods dataframe filtered out.')"
   ]
  },
  {
   "cell_type": "code",
   "execution_count": 45,
   "metadata": {},
   "outputs": [],
   "source": [
    "neigh_df_grouped = neigh_df.groupby(['PostCode', 'Borough'])['Neighborhood'].apply(lambda x: \"%s\" % ', '.join(x))\n",
    "neigh_df_grouped = neigh_df_grouped.to_frame()\n",
    "neigh_df_grouped.reset_index(['PostCode', 'Borough'], inplace=True)\n",
    "neigh_df_grouped.to_csv('list_of_postal_codes_of_canada.csv', index=False)"
   ]
  },
  {
   "cell_type": "markdown",
   "metadata": {},
   "source": [
    "## 5. Printing number of rows and columns of neighborhood data frame."
   ]
  },
  {
   "cell_type": "code",
   "execution_count": 46,
   "metadata": {},
   "outputs": [
    {
     "name": "stdout",
     "output_type": "stream",
     "text": [
      "The dimensions of neighborhood dataframe are :  (103, 3)\n"
     ]
    }
   ],
   "source": [
    "print(\"The dimensions of neighborhood dataframe are : \", neigh_df_grouped.shape)"
   ]
  },
  {
   "cell_type": "code",
   "execution_count": null,
   "metadata": {},
   "outputs": [],
   "source": []
  }
 ],
 "metadata": {
  "kernelspec": {
   "display_name": "Python 3",
   "language": "python",
   "name": "python3"
  },
  "language_info": {
   "codemirror_mode": {
    "name": "ipython",
    "version": 3
   },
   "file_extension": ".py",
   "mimetype": "text/x-python",
   "name": "python",
   "nbconvert_exporter": "python",
   "pygments_lexer": "ipython3",
   "version": "3.7.0"
  }
 },
 "nbformat": 4,
 "nbformat_minor": 2
}
